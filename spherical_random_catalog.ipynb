{
 "cells": [
  {
   "cell_type": "code",
   "execution_count": 1,
   "id": "62bc471a-0e17-41f5-b587-011ec074c048",
   "metadata": {
    "ExecuteTime": {
     "end_time": "2024-10-11T01:30:22.118039Z",
     "start_time": "2024-10-11T01:30:21.482609Z"
    }
   },
   "outputs": [],
   "source": [
    "import numpy as np\n",
    "import matplotlib.pyplot as plt\n",
    "#from astropy.cosmology import Planck18 as cosmo\n",
    "#from astropy.coordinates import SkyCoord, Distance\n",
    "#import astropy.units as u\n",
    "from astropy.io.fits import writeto\n",
    "from scipy.interpolate import InterpolatedUnivariateSpline\n",
    "import fitsio\n",
    "from scipy.integrate import quad\n",
    "from tqdm import tqdm\n",
    "\n",
    "import nbodykit.cosmology as cosmology\n",
    "from nbodykit.source.catalog import ArrayCatalog, FITSCatalog\n",
    "from nbodykit.transform import SkyToCartesian, StackColumns, CartesianToSky"
   ]
  },
  {
   "cell_type": "markdown",
   "id": "1b08f50a-32d3-475a-9493-b21cb3c04d3a",
   "metadata": {},
   "source": [
    "### Simplest option possible - only redshift cuts"
   ]
  },
  {
   "cell_type": "code",
   "execution_count": 2,
   "id": "7912a700-0d50-4cd0-9b0a-ef8564382674",
   "metadata": {
    "ExecuteTime": {
     "end_time": "2024-10-11T01:30:24.970075Z",
     "start_time": "2024-10-11T01:30:24.965595Z"
    }
   },
   "outputs": [],
   "source": [
    "z_lo = 0.2\n",
    "z_hi = 0.5\n",
    "target_nz = 3e-4 # (h/Mpc)^3\n",
    "#target_nz = 0.00857 * cosmo.h**3 # 1/(1+sigma_z) = 0.03"
   ]
  },
  {
   "cell_type": "code",
   "execution_count": 3,
   "id": "839fa09f-b7a8-4c33-befd-10cd666efdfb",
   "metadata": {
    "ExecuteTime": {
     "end_time": "2024-10-11T01:30:27.588025Z",
     "start_time": "2024-10-11T01:30:27.580437Z"
    }
   },
   "outputs": [],
   "source": [
    "# def get_shell_volume(z_lo, z_hi):\n",
    "#     #cosmo=cosmology.LambdaCDM(H0=70, Om0=0.3, Ode0=0.7)\n",
    "#     #d_lo = cosmo.comoving_distance(z_lo)\n",
    "#     #d_hi = cosmo.comoving_distance(z_hi)\n",
    "#     d_lo = Distance(unit=u.Mpc, z = z_lo, cosmology = cosmo)\n",
    "#     d_hi = Distance(unit=u.Mpc, z = z_hi, cosmology = cosmo)\n",
    "\n",
    "#     V = (4./3.)*np.pi * (d_hi**3 - d_lo**3)\n",
    "#     return V\n",
    "\n",
    "def get_shell_volume(min_z, max_z, cosmo):\n",
    "    dummy_dict = np.empty(1, dtype=[(\"ra\", \"f4\"), (\"dec\", \"f4\"), (\"min_z\", \"f4\"), (\"max_z\", \"f4\")])\n",
    "    dummy_dict[\"ra\"] = 0.; dummy_dict[\"dec\"] = 0.; dummy_dict[\"min_z\"] = min_z; dummy_dict[\"max_z\"] = max_z\n",
    "    dummy_cat = ArrayCatalog(dummy_dict)\n",
    "    \n",
    "    #min_d = quad(integrand, 0, min_z)[0]\n",
    "    position = (SkyToCartesian(dummy_cat[\"ra\"], dummy_cat[\"dec\"], dummy_cat[\"min_z\"],degrees=True, cosmo=cosmo)).compute()\n",
    "    min_d = np.sqrt(position[0,0]**2 + position[0,1]**2 + position[0,2]**2)\n",
    "\n",
    "    position = (SkyToCartesian(dummy_cat[\"ra\"], dummy_cat[\"dec\"], dummy_cat[\"max_z\"],degrees=True, cosmo=cosmo)).compute()\n",
    "    max_d = np.sqrt(position[0,0]**2 + position[0,1]**2 + position[0,2]**2)\n",
    "    print(min_d, max_d)\n",
    "    return abs(4./3. * np.pi * (max_d**3 - min_d**3))\n",
    "\n",
    "def get_dVolume_dz(z_bins, cosmo):\n",
    "    dummy_dict = np.empty(len(z_bins), dtype=[(\"ra\", \"f4\"), (\"dec\", \"f4\"), (\"z\", \"f4\")])\n",
    "    dummy_dict[\"ra\"] = np.zeros(len(z_bins)); dummy_dict[\"dec\"] = np.zeros(len(z_bins)); dummy_dict[\"z\"] = z_bins\n",
    "    dummy_cat = ArrayCatalog(dummy_dict)\n",
    "\n",
    "    # this outputs positions in Mpc/h\n",
    "    position = (SkyToCartesian(dummy_cat[\"ra\"], dummy_cat[\"dec\"], dummy_cat[\"z\"],degrees=True, cosmo=cosmo)).compute()\n",
    "    d = np.sqrt(position[:,0]**2 + position[:,1]**2 + position[:,2]**2)\n",
    "    dV = np.zeros(len(d)-1)\n",
    "    \n",
    "    for i in range(len(dV)):\n",
    "        dV[i] = 4./3. * np.pi * (d[i+1]**3 - d[i]**3)\n",
    "    return dV\n",
    "\n",
    "def calculate_nz(redshifts, bins, cosmo):\n",
    "    nbar, z_edges = np.histogram(redshifts, bins=bins) # Gives N = n*V\n",
    "    dV_dz = get_dVolume_dz(z_edges, cosmo)\n",
    "    \n",
    "    nbar = nbar / dV_dz\n",
    "    z_centers = np.zeros(len(nbar))\n",
    "    for i in range(len(z_centers)):\n",
    "        z_centers[i] = (z_edges[i] + z_edges[i+1]) / 2.\n",
    "    \n",
    "    # finally, interpolate\n",
    "    nbar_func = InterpolatedUnivariateSpline(z_centers, nbar)\n",
    "    return nbar_func(redshifts)\n",
    "\n",
    "def get_total_galaxies(target_nz, z_lo, z_hi, cosmo):\n",
    "    bins = np.linspace(z_lo, z_hi, 50)\n",
    "    dV_dz = get_dVolume_dz(bins, cosmo)\n",
    "    N_galaxies = np.sum(target_nz * dV_dz)\n",
    "    return N_galaxies"
   ]
  },
  {
   "cell_type": "code",
   "execution_count": 4,
   "id": "57926a50-cb4a-46db-90c3-6b9037f9dc80",
   "metadata": {
    "ExecuteTime": {
     "end_time": "2024-10-11T01:30:39.091983Z",
     "start_time": "2024-10-11T01:30:39.050936Z"
    }
   },
   "outputs": [
    {
     "name": "stdout",
     "output_type": "stream",
     "text": [
      "570.8853227158975 1317.596652275953\n",
      "2640660 galaxies in a volume of 8.802e+09 (Mpc/h)^3\n",
      "2640660 galaxies in a volume of 8.802e+09 (Mpc/h)^3\n"
     ]
    }
   ],
   "source": [
    "cosmo_nbodykit = cosmology.Cosmology(h=0.7).match(Omega0_m=0.30964)#, Omega0_b=0.04897)\n",
    "\n",
    "V = get_shell_volume(z_lo, z_hi, cosmo_nbodykit)\n",
    "N_galaxies = int((V * target_nz))\n",
    "print(\"{:0.0f} galaxies in a volume of {:0.3e} (Mpc/h)^3\".format(N_galaxies, V))\n",
    "N_galaxies - get_total_galaxies(target_nz, z_lo, z_hi, cosmo_nbodykit)\n",
    "print(\"{:0.0f} galaxies in a volume of {:0.3e} (Mpc/h)^3\".format(N_galaxies, V))\n",
    "#print(Distance(unit=u.Mpc, z = z_lo, cosmology = cosmo))"
   ]
  },
  {
   "cell_type": "code",
   "execution_count": 5,
   "id": "4faeef54-7167-4c31-9c8b-3673410359f5",
   "metadata": {
    "ExecuteTime": {
     "end_time": "2024-10-11T01:30:40.040547Z",
     "start_time": "2024-10-11T01:30:40.033887Z"
    }
   },
   "outputs": [],
   "source": [
    "# NOTE: This function creates a totally uniform random catalog in real-space\n",
    "# Eventually, we'll want to create randoms based on some redshift distribution, but this is an ok place to start\n",
    "def create_survey_randoms(num_galaxies, z_min, z_max, cosmo):\n",
    "    \n",
    "    dummy_dict = np.empty(1, dtype=[(\"ra\", \"f4\"), (\"dec\", \"f4\"), (\"min_z\", \"f4\"), (\"max_z\", \"f4\")])\n",
    "    dummy_dict[\"ra\"] = 0.; dummy_dict[\"dec\"] = 0.; dummy_dict[\"min_z\"] = z_min; dummy_dict[\"max_z\"] = z_max\n",
    "    dummy_cat = ArrayCatalog(dummy_dict)\n",
    "    \n",
    "    #min_d = quad(integrand, 0, min_z)[0]\n",
    "    position = (SkyToCartesian(dummy_cat[\"ra\"], dummy_cat[\"dec\"], dummy_cat[\"min_z\"],degrees=True, cosmo=cosmo)).compute()\n",
    "    min_d = np.sqrt(position[0,0]**2 + position[0,1]**2 + position[0,2]**2)\n",
    "\n",
    "    position = (SkyToCartesian(dummy_cat[\"ra\"], dummy_cat[\"dec\"], dummy_cat[\"max_z\"],degrees=True, cosmo=cosmo)).compute()\n",
    "    max_d = np.sqrt(position[0,0]**2 + position[0,1]**2 + position[0,2]**2)\n",
    "    print(min_d, max_d)\n",
    "    i = 0\n",
    "    random = np.zeros((num_galaxies, 3))\n",
    "    pbar = tqdm(total = num_galaxies)\n",
    "    while i < num_galaxies:\n",
    "        random_pos = np.vstack((\n",
    "            np.random.uniform(-1*max_d, max_d, 1),\n",
    "            np.random.uniform(-1*max_d, max_d, 1),\n",
    "            np.random.uniform(-1*max_d, max_d, 1)\n",
    "        )).T\n",
    "        d = np.linalg.norm(random_pos)\n",
    "        if d > min_d and d < max_d:\n",
    "            random[i,:] = random_pos\n",
    "            i = i+1\n",
    "            pbar.update(1)\n",
    "    pbar.close()\n",
    "    \n",
    "    random_dict=np.empty(len(random),dtype=[('x',random.dtype),('y',random.dtype),('z',random.dtype)])\n",
    "    random_dict['x']=random[:,0]\n",
    "    random_dict['y']=random[:,1]\n",
    "    random_dict['z']=random[:,2]\n",
    "\n",
    "    random = ArrayCatalog(random_dict)\n",
    "    random[\"Position\"] = StackColumns((random[\"x\"], random[\"y\"], random[\"z\"]))\n",
    "    random[\"RA\"], random[\"DEC\"], random[\"Z\"] = CartesianToSky(random[\"Position\"], cosmo_nbodykit)\n",
    "\n",
    "    random[\"NZ\"] = calculate_nz(random[\"Z\"].compute(), np.linspace(z_lo, z_hi, 50), cosmo_nbodykit)\n",
    "    random[\"WEIGHT_FKP\"] = 1. / (1 + random[\"NZ\"] * 1e4)\n",
    "    return random"
   ]
  },
  {
   "cell_type": "code",
   "execution_count": 7,
   "id": "82f261c2-97af-4301-ba62-b29d7c141426",
   "metadata": {
    "ExecuteTime": {
     "end_time": "2024-10-11T01:31:51.410757Z",
     "start_time": "2024-10-11T01:30:41.305412Z"
    }
   },
   "outputs": [
    {
     "name": "stdout",
     "output_type": "stream",
     "text": [
      "570.8853227158975 1317.596652275953\n"
     ]
    },
    {
     "name": "stderr",
     "output_type": "stream",
     "text": [
      "100%|██████████| 2640660/2640660 [01:09<00:00, 37960.99it/s]\n"
     ]
    }
   ],
   "source": [
    "alpha = 1.\n",
    "random = create_survey_randoms(int(N_galaxies*alpha), z_lo, z_hi, cosmo_nbodykit)"
   ]
  },
  {
   "cell_type": "code",
   "execution_count": 8,
   "id": "5f3aadc4-11dd-4a09-9142-975d12417591",
   "metadata": {
    "ExecuteTime": {
     "end_time": "2024-10-11T01:31:52.519126Z",
     "start_time": "2024-10-11T01:31:51.411640Z"
    }
   },
   "outputs": [
    {
     "data": {
      "text/plain": [
       "Text(0, 0.5, 'n(z) $(h/Mpc)^3$')"
      ]
     },
     "execution_count": 8,
     "metadata": {},
     "output_type": "execute_result"
    },
    {
     "data": {
      "image/png": "[encoded data removed]",
      "text/plain": [
       "<Figure size 432x288 with 1 Axes>"
      ]
     },
     "metadata": {
      "needs_background": "light"
     },
     "output_type": "display_data"
    },
    {
     "data": {
      "image/png": "[encoded data removed]",
      "text/plain": [
       "<Figure size 432x288 with 1 Axes>"
      ]
     },
     "metadata": {
      "needs_background": "light"
     },
     "output_type": "display_data"
    }
   ],
   "source": [
    "plt.scatter(random[\"x\"][:5000], random[\"y\"][:5000], s=1, c=\"black\")\n",
    "plt.gca().set_aspect('equal')\n",
    "#plt.hist(random[\"X\"][:1000], bins=100)\n",
    "\n",
    "# n_of_z, bin_edges = np.histogram(random[\"NZ\"].compute(), bins=50)\n",
    "# bins = (bin_edges[:-1] + bin_edges[1:]) / 2\n",
    "\n",
    "plt.figure()\n",
    "#plt.plot(bins, n_of_z)\n",
    "plt.scatter(random[\"Z\"].compute(), random[\"NZ\"].compute(), s=1, c=\"black\")\n",
    "plt.axhline(target_nz, c=\"black\", ls=\"--\")\n",
    "plt.xlabel(\"z\")\n",
    "plt.ylabel(r\"n(z) $(h/Mpc)^3$\")"
   ]
  },
  {
   "cell_type": "code",
   "execution_count": 9,
   "id": "c3c9a6ae-f781-4430-b148-a7fb5b3b5efa",
   "metadata": {
    "ExecuteTime": {
     "end_time": "2024-10-11T01:32:01.874107Z",
     "start_time": "2024-10-11T01:32:00.903246Z"
    }
   },
   "outputs": [],
   "source": [
    "fitsio.write(\"data/random_for_Robin.fits\", {\"RA\": random[\"RA\"].compute(), \n",
    "                                                 \"DEC\" : random[\"DEC\"].compute(), \n",
    "                                                 \"Z\": random[\"Z\"].compute(),\n",
    "                                                 \"NZ\": random[\"NZ\"].compute(),\n",
    "                                                 \"WEIGHT_FKP\": random[\"WEIGHT_FKP\"].compute()})\n",
    "#writeto(\"random_sample_2_redshift_2.fits\", np.array([random[\"RA\"].compute(), random[\"DEC\"].compute(), random[\"Z\"].compute()]),\n",
    "#        overwrite=True)\n",
    "#random.save(\"random_sample_2_redshift_2.fits\", [\"RA\", \"DEC\", \"Z\"])"
   ]
  },
  {
   "cell_type": "code",
   "execution_count": 35,
   "id": "83a40971-b5bf-430c-b172-63d264b69677",
   "metadata": {},
   "outputs": [
    {
     "name": "stdout",
     "output_type": "stream",
     "text": [
      "[0.37462037 0.32879143 0.37236168 ... 0.34573658 0.32576195 0.28648342]\n"
     ]
    }
   ],
   "source": [
    "random_test = FITSCatalog(\"random_sample_2_redshift_2.fits\")\n",
    "\n",
    "print(random_test[\"Z\"].compute())"
   ]
  },
  {
   "cell_type": "code",
   "execution_count": null,
   "id": "864ea943-41d3-4067-bc69-395b4dd24685",
   "metadata": {},
   "outputs": [],
   "source": []
  }
 ],
 "metadata": {
  "kernelspec": {
   "display_name": "Python 3 (ipykernel)",
   "language": "python",
   "name": "python3"
  },
  "language_info": {
   "codemirror_mode": {
    "name": "ipython",
    "version": 3
   },
   "file_extension": ".py",
   "mimetype": "text/x-python",
   "name": "python",
   "nbconvert_exporter": "python",
   "pygments_lexer": "ipython3",
   "version": "3.7.16"
  }
 },
 "nbformat": 4,
 "nbformat_minor": 5
}
