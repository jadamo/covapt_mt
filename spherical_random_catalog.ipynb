{
 "cells": [
  {
   "cell_type": "code",
   "execution_count": 1,
   "id": "62bc471a-0e17-41f5-b587-011ec074c048",
   "metadata": {
    "ExecuteTime": {
     "end_time": "2024-10-11T01:30:22.118039Z",
     "start_time": "2024-10-11T01:30:21.482609Z"
    }
   },
   "outputs": [],
   "source": [
    "import numpy as np\n",
    "import matplotlib.pyplot as plt\n",
    "#from astropy.cosmology import Planck18 as cosmo\n",
    "#from astropy.coordinates import SkyCoord, Distance\n",
    "#import astropy.units as u\n",
    "from astropy.io.fits import writeto\n",
    "from scipy.interpolate import InterpolatedUnivariateSpline\n",
    "import fitsio\n",
    "import h5py\n",
    "from scipy.integrate import quad\n",
    "from tqdm import tqdm\n",
    "\n",
    "import nbodykit.cosmology as cosmology\n",
    "from nbodykit.source.catalog import ArrayCatalog, FITSCatalog, HDFCatalog\n",
    "from nbodykit.transform import SkyToCartesian, StackColumns, CartesianToSky"
   ]
  },
  {
   "cell_type": "markdown",
   "id": "1b08f50a-32d3-475a-9493-b21cb3c04d3a",
   "metadata": {},
   "source": [
    "### Simplest option possible - only redshift cuts"
   ]
  },
  {
   "cell_type": "code",
   "execution_count": 2,
   "id": "7912a700-0d50-4cd0-9b0a-ef8564382674",
   "metadata": {
    "ExecuteTime": {
     "end_time": "2024-10-11T01:30:24.970075Z",
     "start_time": "2024-10-11T01:30:24.965595Z"
    }
   },
   "outputs": [],
   "source": [
    "#z_bounds = [0.2, 0.4, 0.6]\n",
    "\n",
    "z_bounds = [[0.2, 0.4],\n",
    "            [0.2, 0.4],\n",
    "            [0.4, 0.6],\n",
    "            [0.4, 0.6]]\n",
    "#target_nz = 3e-4 # (h/Mpc)^3\n",
    "target_nz = np.array([0.00411, 0.000501,\n",
    "                      0.0129, 0.00535]) * 0.7**3\n",
    "#target_nz = (0.00857+0.00282+0.00362) * 0.7**3 # 1/(1+sigma_z) = 0.03"
   ]
  },
  {
   "cell_type": "code",
   "execution_count": 3,
   "id": "839fa09f-b7a8-4c33-befd-10cd666efdfb",
   "metadata": {
    "ExecuteTime": {
     "end_time": "2024-10-11T01:30:27.588025Z",
     "start_time": "2024-10-11T01:30:27.580437Z"
    }
   },
   "outputs": [],
   "source": [
    "# def get_shell_volume(z_lo, z_hi):\n",
    "#     #cosmo=cosmology.LambdaCDM(H0=70, Om0=0.3, Ode0=0.7)\n",
    "#     #d_lo = cosmo.comoving_distance(z_lo)\n",
    "#     #d_hi = cosmo.comoving_distance(z_hi)\n",
    "#     d_lo = Distance(unit=u.Mpc, z = z_lo, cosmology = cosmo)\n",
    "#     d_hi = Distance(unit=u.Mpc, z = z_hi, cosmology = cosmo)\n",
    "\n",
    "#     V = (4./3.)*np.pi * (d_hi**3 - d_lo**3)\n",
    "#     return V\n",
    "\n",
    "def get_shell_volume(min_z, max_z, cosmo):\n",
    "    dummy_dict = np.empty(1, dtype=[(\"ra\", \"f4\"), (\"dec\", \"f4\"), (\"min_z\", \"f4\"), (\"max_z\", \"f4\")])\n",
    "    dummy_dict[\"ra\"] = 0.; dummy_dict[\"dec\"] = 0.; dummy_dict[\"min_z\"] = min_z; dummy_dict[\"max_z\"] = max_z\n",
    "    dummy_cat = ArrayCatalog(dummy_dict)\n",
    "    \n",
    "    #min_d = quad(integrand, 0, min_z)[0]\n",
    "    position = (SkyToCartesian(dummy_cat[\"ra\"], dummy_cat[\"dec\"], dummy_cat[\"min_z\"],degrees=True, cosmo=cosmo)).compute()\n",
    "    min_d = np.sqrt(position[0,0]**2 + position[0,1]**2 + position[0,2]**2)\n",
    "\n",
    "    position = (SkyToCartesian(dummy_cat[\"ra\"], dummy_cat[\"dec\"], dummy_cat[\"max_z\"],degrees=True, cosmo=cosmo)).compute()\n",
    "    max_d = np.sqrt(position[0,0]**2 + position[0,1]**2 + position[0,2]**2)\n",
    "    print(min_d, max_d)\n",
    "    return abs(4./3. * np.pi * (max_d**3 - min_d**3))\n",
    "\n",
    "def get_dVolume_dz(z_bins, cosmo):\n",
    "    dummy_dict = np.empty(len(z_bins), dtype=[(\"ra\", \"f4\"), (\"dec\", \"f4\"), (\"z\", \"f4\")])\n",
    "    dummy_dict[\"ra\"] = np.zeros(len(z_bins)); dummy_dict[\"dec\"] = np.zeros(len(z_bins)); dummy_dict[\"z\"] = z_bins\n",
    "    dummy_cat = ArrayCatalog(dummy_dict)\n",
    "\n",
    "    # this outputs positions in Mpc/h\n",
    "    position = (SkyToCartesian(dummy_cat[\"ra\"], dummy_cat[\"dec\"], dummy_cat[\"z\"],degrees=True, cosmo=cosmo)).compute()\n",
    "    d = np.sqrt(position[:,0]**2 + position[:,1]**2 + position[:,2]**2)\n",
    "    dV = np.zeros(len(d)-1)\n",
    "    \n",
    "    for i in range(len(dV)):\n",
    "        dV[i] = 4./3. * np.pi * (d[i+1]**3 - d[i]**3)\n",
    "    return dV\n",
    "\n",
    "def calculate_nz(redshifts, bins, cosmo):\n",
    "    nbar, z_edges = np.histogram(redshifts, bins=bins) # Gives N = n*V\n",
    "    dV_dz = get_dVolume_dz(z_edges, cosmo)\n",
    "    \n",
    "    nbar = nbar / dV_dz\n",
    "    z_centers = np.zeros(len(nbar))\n",
    "    for i in range(len(z_centers)):\n",
    "        z_centers[i] = (z_edges[i] + z_edges[i+1]) / 2.\n",
    "    \n",
    "    # finally, interpolate\n",
    "    nbar_func = InterpolatedUnivariateSpline(z_centers, nbar)\n",
    "    return nbar_func(redshifts)\n",
    "\n",
    "def get_total_galaxies(target_nz, z_lo, z_hi, cosmo):\n",
    "    bins = np.linspace(z_lo, z_hi, 50)\n",
    "    dV_dz = get_dVolume_dz(bins, cosmo)\n",
    "    N_galaxies = np.sum(target_nz * dV_dz)\n",
    "    return N_galaxies"
   ]
  },
  {
   "cell_type": "code",
   "execution_count": 11,
   "id": "57926a50-cb4a-46db-90c3-6b9037f9dc80",
   "metadata": {
    "ExecuteTime": {
     "end_time": "2024-10-11T01:30:39.091983Z",
     "start_time": "2024-10-11T01:30:39.050936Z"
    }
   },
   "outputs": [
    {
     "name": "stdout",
     "output_type": "stream",
     "text": [
      "570.8853227158975 1083.0868346334407\n",
      "1083.0868346334407 1538.4096284683512\n",
      "[6403964, 780629] galaxies in a volume of 4.543e+09 (Mpc/h)^3\n",
      "[43933624, 18220534] galaxies in a volume of 9.929e+09 (Mpc/h)^3\n"
     ]
    }
   ],
   "source": [
    "cosmo_nbodykit = cosmology.Cosmology(h=0.7).match(Omega0_m=0.30964)#, Omega0_b=0.04897)\n",
    "\n",
    "V1 = get_shell_volume(z_bounds[0][0], z_bounds[0][1], cosmo_nbodykit)\n",
    "V2 = get_shell_volume(z_bounds[2][0], z_bounds[2][1], cosmo_nbodykit)\n",
    "N_galaxies = np.array([int((V1 * target_nz[0])), int((V1 * target_nz[1])),\n",
    "                       int((V2 * target_nz[2])), int((V2 * target_nz[3]))])\n",
    "\n",
    "print(\"[{:0.0f}, {:0.0f}] galaxies in a volume of {:0.3e} (Mpc/h)^3\".format(N_galaxies[0], N_galaxies[1], V1))\n",
    "print(\"[{:0.0f}, {:0.0f}] galaxies in a volume of {:0.3e} (Mpc/h)^3\".format(N_galaxies[2], N_galaxies[3], V2))\n",
    "# N_galaxies - get_total_galaxies(target_nz, z_lo, z_hi, cosmo_nbodykit)\n",
    "# print(\"{:0.0f} galaxies in a volume of {:0.3e} (Mpc/h)^3\".format(N_galaxies, V))\n",
    "#print(Distance(unit=u.Mpc, z = z_lo, cosmology = cosmo))"
   ]
  },
  {
   "cell_type": "code",
   "execution_count": 12,
   "id": "4faeef54-7167-4c31-9c8b-3673410359f5",
   "metadata": {
    "ExecuteTime": {
     "end_time": "2024-10-11T01:30:40.040547Z",
     "start_time": "2024-10-11T01:30:40.033887Z"
    }
   },
   "outputs": [],
   "source": [
    "# NOTE: This function creates a totally uniform random catalog in real-space\n",
    "# Eventually, we'll want to create randoms based on some redshift distribution, but this is an ok place to start\n",
    "def create_survey_randoms(num_galaxies, z_lo, z_hi, cosmo):\n",
    "    \n",
    "    random = np.zeros((int(num_galaxies), 3))\n",
    "    pbar = tqdm(total = int(num_galaxies))\n",
    "    \n",
    "    dummy_dict = np.empty(1, dtype=[(\"ra\", \"f4\"), (\"dec\", \"f4\"), (\"min_z\", \"f4\"), (\"max_z\", \"f4\")])\n",
    "    dummy_dict[\"ra\"] = 0.; dummy_dict[\"dec\"] = 0.; dummy_dict[\"min_z\"] = z_lo; dummy_dict[\"max_z\"] = z_hi\n",
    "    dummy_cat = ArrayCatalog(dummy_dict)\n",
    "\n",
    "    #min_d = quad(integrand, 0, min_z)[0]\n",
    "    position = (SkyToCartesian(dummy_cat[\"ra\"], dummy_cat[\"dec\"], dummy_cat[\"min_z\"],degrees=True, cosmo=cosmo)).compute()\n",
    "    min_d = np.sqrt(position[0,0]**2 + position[0,1]**2 + position[0,2]**2)\n",
    "\n",
    "    position = (SkyToCartesian(dummy_cat[\"ra\"], dummy_cat[\"dec\"], dummy_cat[\"max_z\"],degrees=True, cosmo=cosmo)).compute()\n",
    "    max_d = np.sqrt(position[0,0]**2 + position[0,1]**2 + position[0,2]**2)\n",
    "    print(min_d, max_d)\n",
    "    i = 0\n",
    "    pbar = tqdm(total = int(num_galaxies), position=0, leave=True)\n",
    "    while i < int(num_galaxies):\n",
    "        random_pos = np.vstack((\n",
    "            np.random.uniform(-1*max_d, max_d, 1),\n",
    "            np.random.uniform(-1*max_d, max_d, 1),\n",
    "            np.random.uniform(-1*max_d, max_d, 1)\n",
    "        )).T\n",
    "        d = np.linalg.norm(random_pos)\n",
    "        if d > min_d and d < max_d:\n",
    "            random[i,:] = random_pos\n",
    "            i = i+1\n",
    "            pbar.update(1)\n",
    "    pbar.close()\n",
    "    \n",
    "    random_dict=np.empty(len(random),dtype=[('x',random.dtype),('y',random.dtype),('z',random.dtype)])\n",
    "    random_dict['x']=random[:,0]\n",
    "    random_dict['y']=random[:,1]\n",
    "    random_dict['z']=random[:,2]\n",
    "\n",
    "    random = ArrayCatalog(random_dict)\n",
    "    random[\"Position\"] = StackColumns((random[\"x\"], random[\"y\"], random[\"z\"]))\n",
    "    random[\"RA\"], random[\"DEC\"], random[\"Z\"] = CartesianToSky(random[\"Position\"], cosmo_nbodykit)\n",
    "\n",
    "    random[\"NZ\"] = calculate_nz(random[\"Z\"].compute(), np.linspace(z_lo, z_hi, 50), cosmo_nbodykit)\n",
    "    random[\"WEIGHT_FKP\"] = 1. / (1 + random[\"NZ\"] * 1e4)\n",
    "    return random"
   ]
  },
  {
   "cell_type": "code",
   "execution_count": 13,
   "id": "82f261c2-97af-4301-ba62-b29d7c141426",
   "metadata": {
    "ExecuteTime": {
     "end_time": "2024-10-11T01:31:51.410757Z",
     "start_time": "2024-10-11T01:30:41.305412Z"
    },
    "scrolled": true,
    "tags": []
   },
   "outputs": [
    {
     "name": "stderr",
     "output_type": "stream",
     "text": [
      "  0%|                                               | 0/6403964 [00:00<?, ?it/s]"
     ]
    },
    {
     "name": "stdout",
     "output_type": "stream",
     "text": [
      "570.8853227158975 1083.0868346334407\n"
     ]
    },
    {
     "name": "stderr",
     "output_type": "stream",
     "text": [
      "  0%|                                               | 0/6403964 [00:00<?, ?it/s]\n",
      "100%|██████████████████████████████| 6403964/6403964 [02:43<00:00, 39093.17it/s]\n",
      "  0%|                                                | 0/780629 [00:00<?, ?it/s]"
     ]
    },
    {
     "name": "stdout",
     "output_type": "stream",
     "text": [
      "570.8853227158975 1083.0868346334407\n"
     ]
    },
    {
     "name": "stderr",
     "output_type": "stream",
     "text": [
      "  0%|                                                | 0/780629 [00:00<?, ?it/s]\n",
      "100%|████████████████████████████████| 780629/780629 [00:20<00:00, 38545.11it/s]\n",
      "  0%|                                              | 0/43933624 [00:00<?, ?it/s]"
     ]
    },
    {
     "name": "stdout",
     "output_type": "stream",
     "text": [
      "1083.0868346334407 1538.4096284683512\n"
     ]
    },
    {
     "name": "stderr",
     "output_type": "stream",
     "text": [
      "  0%|                                              | 0/43933624 [00:00<?, ?it/s]\n",
      "100%|████████████████████████████| 43933624/43933624 [24:34<00:00, 29789.28it/s]\n",
      "  0%|                                              | 0/18220534 [00:00<?, ?it/s]"
     ]
    },
    {
     "name": "stdout",
     "output_type": "stream",
     "text": [
      "1083.0868346334407 1538.4096284683512\n"
     ]
    },
    {
     "name": "stderr",
     "output_type": "stream",
     "text": [
      "  0%|                                              | 0/18220534 [00:00<?, ?it/s]\n",
      "100%|████████████████████████████| 18220534/18220534 [10:09<00:00, 29884.61it/s]\n"
     ]
    }
   ],
   "source": [
    "alpha = 1.\n",
    "randoms_list = []\n",
    "for idx in range(len(N_galaxies)):\n",
    "    randoms_list.append(create_survey_randoms(N_galaxies[idx]*alpha, z_bounds[idx][0], z_bounds[idx][1], cosmo_nbodykit))"
   ]
  },
  {
   "cell_type": "code",
   "execution_count": 14,
   "id": "5f3aadc4-11dd-4a09-9142-975d12417591",
   "metadata": {
    "ExecuteTime": {
     "end_time": "2024-10-11T01:31:52.519126Z",
     "start_time": "2024-10-11T01:31:51.411640Z"
    }
   },
   "outputs": [
    {
     "data": {
      "text/plain": [
       "Text(0, 0.5, 'n(z) $(h/Mpc)^3$')"
      ]
     },
     "execution_count": 14,
     "metadata": {},
     "output_type": "execute_result"
    },
    {
     "data": {
      "image/png": "[encoded data removed]",
      "text/plain": [
       "<Figure size 640x480 with 1 Axes>"
      ]
     },
     "metadata": {},
     "output_type": "display_data"
    }
   ],
   "source": [
    "#plt.scatter(random[\"x\"][:5000], random[\"y\"][:5000], s=1, c=\"black\")\n",
    "#plt.gca().set_aspect('equal')\n",
    "#plt.hist(random[\"X\"][:1000], bins=100)\n",
    "\n",
    "# n_of_z, bin_edges = np.histogram(random[\"NZ\"].compute(), bins=50)\n",
    "# bins = (bin_edges[:-1] + bin_edges[1:]) / 2\n",
    "\n",
    "plt.figure()\n",
    "#plt.plot(bins, n_of_z)\n",
    "plt.scatter(randoms_list[0][\"Z\"].compute(), randoms_list[0][\"NZ\"].compute(), s=1, c=\"black\")\n",
    "plt.scatter(randoms_list[1][\"Z\"].compute(), randoms_list[1][\"NZ\"].compute(), s=1, c=\"red\")\n",
    "plt.scatter(randoms_list[2][\"Z\"].compute(), randoms_list[2][\"NZ\"].compute(), s=1, c=\"green\")\n",
    "plt.scatter(randoms_list[3][\"Z\"].compute(), randoms_list[3][\"NZ\"].compute(), s=1, c=\"blue\")\n",
    "plt.axhline(target_nz[0], c=\"black\", ls=\"--\")\n",
    "plt.axhline(target_nz[1], c=\"red\", ls=\"--\")\n",
    "plt.axhline(target_nz[2], c=\"green\", ls=\"--\")\n",
    "plt.axhline(target_nz[3], c=\"blue\", ls=\"--\")\n",
    "plt.xlabel(\"z\")\n",
    "plt.ylabel(r\"n(z) $(h/Mpc)^3$\")"
   ]
  },
  {
   "cell_type": "code",
   "execution_count": 17,
   "id": "c3c9a6ae-f781-4430-b148-a7fb5b3b5efa",
   "metadata": {
    "ExecuteTime": {
     "end_time": "2024-10-11T01:32:01.874107Z",
     "start_time": "2024-10-11T01:32:00.903246Z"
    }
   },
   "outputs": [],
   "source": [
    "# fitsio.write(\"data/random_for_Robin.fits\", {\"RA\": random[\"RA\"].compute(), \n",
    "#                                                  \"DEC\" : random[\"DEC\"].compute(), \n",
    "#                                                  \"Z\": random[\"Z\"].compute(),\n",
    "#                                                  \"NZ\": random[\"NZ\"].compute(),\n",
    "#                                                  \"WEIGHT_FKP\": random[\"WEIGHT_FKP\"].compute()})\n",
    "\n",
    "# write to a HDF5 file\n",
    "labels = [\"0_0\", \"1_0\", \"0_1\", \"1_1\"]\n",
    "for i in range(len(randoms_list)):\n",
    "    with h5py.File(\"data/input_data/emulator/random_\"+labels[i]+\".h5\", 'w') as ff:\n",
    "        ff.create_dataset(\"position_x\", data=randoms_list[i][\"x\"].compute())\n",
    "        ff.create_dataset(\"position_y\", data=randoms_list[i][\"y\"].compute())\n",
    "        ff.create_dataset(\"position_z\", data=randoms_list[i][\"z\"].compute())\n",
    "        ff.create_dataset(\"fkp_weights\", data=randoms_list[i][\"WEIGHT_FKP\"].compute())"
   ]
  },
  {
   "cell_type": "code",
   "execution_count": 36,
   "id": "83a40971-b5bf-430c-b172-63d264b69677",
   "metadata": {},
   "outputs": [
    {
     "name": "stdout",
     "output_type": "stream",
     "text": [
      "HDFCatalog(size=2640660, FileStack(HDFFile(path=/home/joeadamo/Research/SPHEREx/covapt_mt/data/random_for_Robin.hdf5, dataset=/, ncolumns=5, shape=(2640660,)>, ... 1 files))\n",
      "columns =  ['DEC', 'NZ', 'RA', 'Selection', 'Value', 'WEIGHT_FKP', 'Weight', 'Z']\n",
      "total size =  2640660\n",
      "[1. 1. 1. ... 1. 1. 1.]\n"
     ]
    }
   ],
   "source": [
    "#random_test = FITSCatalog(\"random_sample_2_redshift_2.fits\")\n",
    "random_test = HDFCatalog(\"data/input_data/random_for_Robin.hdf5\")\n",
    "\n",
    "print(random_test)\n",
    "print(\"columns = \", random_test.columns) # default Weight,Selection also present\n",
    "print(\"total size = \", random_test.csize)\n",
    "\n",
    "print(random_test[\"Weight\"].compute())"
   ]
  },
  {
   "cell_type": "code",
   "execution_count": 19,
   "id": "864ea943-41d3-4067-bc69-395b4dd24685",
   "metadata": {},
   "outputs": [
    {
     "name": "stdout",
     "output_type": "stream",
     "text": [
      "[0.00596 0.01388 0.0218  0.02972 0.03764 0.04556 0.05348 0.0614  0.06932\n",
      " 0.07724 0.08516 0.09308 0.101   0.10892 0.11684 0.12476 0.13268 0.1406\n",
      " 0.14852 0.15644 0.16436 0.17228 0.1802  0.18812 0.19604]\n"
     ]
    }
   ],
   "source": [
    "# Save the k array\n",
    "#k = np.array([0.00694, 0.01482, 0.0227, 0.03058, 0.03846, 0.04634, 0.05422, 0.0621, 0.06998,\n",
    "#              0.07786, 0.08574, 0.09362, 0.1015,  0.10938, 0.11726, 0.12514, 0.13302, 0.1409,\n",
    "#              0.14878, 0.15666, 0.16454, 0.17242, 0.1803,  0.18818, 0.19606])\n",
    "k = np.linspace(0.002, 0.2, 26)\n",
    "k_centers = (k[:-1] + k[1:]) / 2\n",
    "print(k_centers)\n",
    "np.savez(\"data/input_data/emulator/kbins.npz\", k=k_centers)"
   ]
  },
  {
   "cell_type": "code",
   "execution_count": null,
   "id": "ce820782-20ab-4f13-8c61-fd2c3531dd42",
   "metadata": {},
   "outputs": [],
   "source": []
  }
 ],
 "metadata": {
  "kernelspec": {
   "display_name": "Python 3 (ipykernel)",
   "language": "python",
   "name": "python3"
  },
  "language_info": {
   "codemirror_mode": {
    "name": "ipython",
    "version": 3
   },
   "file_extension": ".py",
   "mimetype": "text/x-python",
   "name": "python",
   "nbconvert_exporter": "python",
   "pygments_lexer": "ipython3",
   "version": "3.11.10"
  }
 },
 "nbformat": 4,
 "nbformat_minor": 5
}
